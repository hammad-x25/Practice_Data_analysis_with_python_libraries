{
 "cells": [
  {
   "cell_type": "code",
   "execution_count": 2,
   "id": "a3c6d119-2ca0-4185-9cc7-4622a6a52556",
   "metadata": {},
   "outputs": [],
   "source": [
    "import numpy as np #importing numpy "
   ]
  },
  {
   "cell_type": "code",
   "execution_count": 3,
   "id": "daff0ce5-570f-436a-bcb3-5f763d70c5be",
   "metadata": {
    "scrolled": true
   },
   "outputs": [],
   "source": [
    "a =np.array([1,2,3,4,5])\n",
    "b =np.array((1,2,3,4))"
   ]
  },
  {
   "cell_type": "code",
   "execution_count": 4,
   "id": "4708d543-13d2-43f5-a895-269f9079a336",
   "metadata": {},
   "outputs": [
    {
     "name": "stdout",
     "output_type": "stream",
     "text": [
      "[1 2 3 4 5]\n",
      "[1 2 3 4]\n",
      "<class 'numpy.ndarray'>\n",
      "<class 'numpy.ndarray'>\n"
     ]
    }
   ],
   "source": [
    "print(a)\n",
    "print(b)\n",
    "print(type(a))\n",
    "\n",
    "print(type(b))\n"
   ]
  },
  {
   "cell_type": "code",
   "execution_count": 7,
   "id": "4c4a085b-3e3c-4587-99c4-3a88b227c03b",
   "metadata": {},
   "outputs": [
    {
     "name": "stdout",
     "output_type": "stream",
     "text": [
      "int32\n",
      "float32\n"
     ]
    }
   ],
   "source": [
    "#but if you mentioned data type then,\n",
    "a =np.array([1,2,3,4,5],dtype='i')\n",
    "b =np.array((1,2,3,4),dtype='f')\n",
    "\n",
    "print(a.dtype)\n",
    "\n",
    "print(b.dtype)"
   ]
  },
  {
   "cell_type": "markdown",
   "id": "1fad4722-36f5-4b80-b54e-5fb57812e7a1",
   "metadata": {},
   "source": [
    "\n",
    "\n",
    "\n",
    "\n",
    "\n",
    "CHECKING DIMMENSIONS THROUGH FUNCTION"
   ]
  },
  {
   "cell_type": "code",
   "execution_count": 10,
   "id": "d716f2d4-e6f2-4da4-b0b4-241f0a971a75",
   "metadata": {},
   "outputs": [
    {
     "name": "stdout",
     "output_type": "stream",
     "text": [
      "2\n"
     ]
    }
   ],
   "source": [
    "a=np.array([[1,2,3],[4,5,6]])\n",
    "\n",
    "print (a.ndim)"
   ]
  },
  {
   "cell_type": "code",
   "execution_count": 11,
   "id": "df4b1aaa-1f73-468e-8103-b2b9a0a10ee4",
   "metadata": {},
   "outputs": [
    {
     "data": {
      "text/plain": [
       "1"
      ]
     },
     "execution_count": 11,
     "metadata": {},
     "output_type": "execute_result"
    }
   ],
   "source": [
    "#ACCESSING ELEMENTS \n",
    "\n",
    "a[0][0] #Or a[0,0]"
   ]
  },
  {
   "cell_type": "code",
   "execution_count": 12,
   "id": "11cc0d5d-fdbd-441e-9e71-93ce1f5a6bed",
   "metadata": {},
   "outputs": [],
   "source": [
    "#note the no of elements of each list should be eqaul ,otherwise it gives error"
   ]
  },
  {
   "cell_type": "code",
   "execution_count": 13,
   "id": "4d5faa25-2ddb-4c09-96e1-2a5ff9e87fd1",
   "metadata": {},
   "outputs": [
    {
     "data": {
      "text/plain": [
       "3"
      ]
     },
     "execution_count": 13,
     "metadata": {},
     "output_type": "execute_result"
    }
   ],
   "source": [
    "c=np.array([[[1,1,1],[2,2,2],[3,3,3]],[[1,1,1],[2,2,2],[3,3,3]]])\n",
    "\n",
    "c.ndim # a array of 2d arrays is 3d array"
   ]
  },
  {
   "cell_type": "code",
   "execution_count": 16,
   "id": "a0281fac-215f-4099-90de-d7ef2ea315d3",
   "metadata": {},
   "outputs": [
    {
     "data": {
      "text/plain": [
       "3"
      ]
     },
     "execution_count": 16,
     "metadata": {},
     "output_type": "execute_result"
    }
   ],
   "source": [
    "c[0][2][1]"
   ]
  },
  {
   "cell_type": "code",
   "execution_count": null,
   "id": "50b2eb88-fce0-4274-bc3b-5d9b5cd63b99",
   "metadata": {},
   "outputs": [],
   "source": [
    "#shape function returns a tuple containing info about the collection of arrays in a particular array"
   ]
  },
  {
   "cell_type": "code",
   "execution_count": 18,
   "id": "c32183ad-4e23-4713-b780-5235524c03f8",
   "metadata": {},
   "outputs": [
    {
     "data": {
      "text/plain": [
       "(2, 3, 3)"
      ]
     },
     "execution_count": 18,
     "metadata": {},
     "output_type": "execute_result"
    }
   ],
   "source": [
    "c.shape"
   ]
  },
  {
   "cell_type": "code",
   "execution_count": 20,
   "id": "852f8a02-7da4-4ee2-87a5-4c610953190a",
   "metadata": {},
   "outputs": [
    {
     "name": "stdout",
     "output_type": "stream",
     "text": [
      "2\n",
      "3\n",
      "3\n"
     ]
    }
   ],
   "source": [
    "#here 2 means how many 2 d arrays \n",
    "# then 3 means how many 1d arrays in each 2d array\n",
    "#then 3 means how many elements are there in each 1d array\n",
    "\n",
    "print(c.shape[0])\n",
    "print(c.shape[1])\n",
    "print(c.shape[2])"
   ]
  },
  {
   "cell_type": "code",
   "execution_count": 21,
   "id": "9fc68734-3447-492d-b3c5-9e6a7ddd290f",
   "metadata": {},
   "outputs": [
    {
     "data": {
      "text/plain": [
       "18"
      ]
     },
     "execution_count": 21,
     "metadata": {},
     "output_type": "execute_result"
    }
   ],
   "source": [
    "#size function is used to  describe no of elements in the whole array\n",
    "\n",
    "c.size"
   ]
  },
  {
   "cell_type": "code",
   "execution_count": 22,
   "id": "039f67a8-b60e-4142-b543-5bf201f41537",
   "metadata": {},
   "outputs": [
    {
     "name": "stdout",
     "output_type": "stream",
     "text": [
      "[ 0  1  2  3  4  5  6  7  8  9 10 11 12 13 14 15 16 17 18 19 20 21 22 23\n",
      " 24 25 26 27 28 29 30 31 32 33 34 35 36 37 38 39 40 41 42 43 44 45 46 47\n",
      " 48 49 50 51 52 53 54 55 56 57 58 59 60 61 62 63 64 65 66 67 68 69 70 71\n",
      " 72 73 74 75 76 77 78 79 80 81 82 83 84 85 86 87 88 89 90 91 92 93 94 95\n",
      " 96 97 98 99]\n"
     ]
    }
   ],
   "source": [
    "d =np.arange(100) # it will create an array of 100 elements from 0 to 100\n",
    "#you can manage to chose your starting point and number of steps you want to take as same as we do in the loops before \n",
    "\n",
    "print (d)"
   ]
  },
  {
   "cell_type": "code",
   "execution_count": 23,
   "id": "fa5342c0-6506-43f7-9263-a27217494e90",
   "metadata": {},
   "outputs": [
    {
     "name": "stdout",
     "output_type": "stream",
     "text": [
      "[20 25 30 35 40 45 50 55 60 65 70 75 80 85 90 95]\n"
     ]
    }
   ],
   "source": [
    "d=np.arange(20,100,5)\n",
    "print(d)"
   ]
  },
  {
   "cell_type": "code",
   "execution_count": 26,
   "id": "493e0546-cb29-4709-972c-bcb500621b09",
   "metadata": {},
   "outputs": [
    {
     "name": "stdout",
     "output_type": "stream",
     "text": [
      "[0 8 9 4 6 1 2 5 7 3]\n"
     ]
    }
   ],
   "source": [
    "# filling array with random numbers \n",
    "\n",
    "e=np.random.permutation(range(10))\n",
    "\n",
    "print(e)"
   ]
  },
  {
   "cell_type": "code",
   "execution_count": 28,
   "id": "2df72ecf-82d8-485d-8b28-1ffbc8aa3691",
   "metadata": {},
   "outputs": [
    {
     "data": {
      "text/plain": [
       "71"
      ]
     },
     "execution_count": 28,
     "metadata": {},
     "output_type": "execute_result"
    }
   ],
   "source": [
    "#generating a random number \n",
    "\n",
    "np.random.randint(2,400) #generates a number between 2 and 400 "
   ]
  },
  {
   "cell_type": "code",
   "execution_count": 32,
   "id": "d1f08687-8057-4c16-9353-dfd7da0fbda1",
   "metadata": {},
   "outputs": [
    {
     "name": "stdout",
     "output_type": "stream",
     "text": [
      "[0.6819359  0.20052598 0.84861894 0.44317849 0.28438717 0.4010008\n",
      " 0.77487273 0.76172377 0.66818448 0.59084732 0.22897628 0.0872944\n",
      " 0.6863875  0.39665003 0.76362867 0.12981098 0.50005576 0.19371445\n",
      " 0.55214698 0.47701587 0.38056411 0.63515394 0.46654206 0.5948203\n",
      " 0.12627782 0.12222966 0.59416628 0.27474199 0.94289353 0.2954672\n",
      " 0.80342414 0.36654239 0.53870745 0.58288327 0.96070489 0.03489918\n",
      " 0.09952199 0.08651301 0.40691408 0.50900653 0.86629595 0.7583419\n",
      " 0.07060718 0.18097278 0.79941078 0.85078987 0.6625144  0.34673952\n",
      " 0.24507228 0.06337156 0.16083043 0.0577256  0.68611403 0.89262467\n",
      " 0.75700274 0.47186314 0.82640199 0.72295764 0.11875735 0.02461051\n",
      " 0.43549947 0.51492529 0.1584429  0.53154543 0.25716486 0.23102855\n",
      " 0.70149686 0.33625892 0.79170521 0.64310518 0.37442906 0.1899134\n",
      " 0.564744   0.31532152 0.31354032 0.21923709 0.36165657 0.88217099\n",
      " 0.12034002 0.67447186 0.22134651 0.87246754 0.55165629 0.95814343\n",
      " 0.87124865 0.98133594 0.23120132 0.75058189 0.32205876 0.11266392\n",
      " 0.2462684  0.98007157 0.11635208 0.23677408 0.47687098 0.51335229\n",
      " 0.17158881 0.87237418 0.39737827 0.16880155]\n"
     ]
    }
   ],
   "source": [
    "#generating an array of random numbers between 0 and 1\n",
    "\n",
    "A=np.random.rand(100)\n",
    "print(A)"
   ]
  },
  {
   "cell_type": "code",
   "execution_count": 31,
   "id": "dee6e249-60f4-41d2-b6df-2eea6cb1e86d",
   "metadata": {},
   "outputs": [],
   "source": [
    "import matplotlib.pyplot as mat # here we use matplotlib we will discuss this later but for visual apperance of values uniformality"
   ]
  },
  {
   "cell_type": "code",
   "execution_count": 34,
   "id": "4c581090-aad3-4295-bec0-db118fd30753",
   "metadata": {},
   "outputs": [
    {
     "data": {
      "text/plain": [
       "(array([1., 1., 0., 1., 2., 0., 2., 1., 0., 3., 4., 0., 0., 1., 1., 2., 1.,\n",
       "        2., 1., 0., 2., 3., 1., 2., 1., 0., 1., 1., 1., 0., 2., 1., 1., 1.,\n",
       "        0., 2., 1., 1., 2., 2., 0., 0., 1., 1., 0., 0., 2., 2., 0., 1., 1.,\n",
       "        2., 1., 1., 0., 2., 1., 0., 1., 3., 0., 0., 0., 1., 1., 0., 1., 2.,\n",
       "        1., 2., 1., 0., 1., 0., 0., 1., 2., 2., 1., 0., 2., 1., 0., 1., 0.,\n",
       "        0., 2., 1., 3., 1., 1., 0., 0., 0., 0., 1., 0., 2., 0., 2.]),\n",
       " array([0.02461051, 0.03417777, 0.04374502, 0.05331228, 0.06287953,\n",
       "        0.07244679, 0.08201404, 0.09158129, 0.10114855, 0.1107158 ,\n",
       "        0.12028306, 0.12985031, 0.13941757, 0.14898482, 0.15855207,\n",
       "        0.16811933, 0.17768658, 0.18725384, 0.19682109, 0.20638835,\n",
       "        0.2159556 , 0.22552285, 0.23509011, 0.24465736, 0.25422462,\n",
       "        0.26379187, 0.27335913, 0.28292638, 0.29249363, 0.30206089,\n",
       "        0.31162814, 0.3211954 , 0.33076265, 0.34032991, 0.34989716,\n",
       "        0.35946441, 0.36903167, 0.37859892, 0.38816618, 0.39773343,\n",
       "        0.40730068, 0.41686794, 0.42643519, 0.43600245, 0.4455697 ,\n",
       "        0.45513696, 0.46470421, 0.47427146, 0.48383872, 0.49340597,\n",
       "        0.50297323, 0.51254048, 0.52210774, 0.53167499, 0.54124224,\n",
       "        0.5508095 , 0.56037675, 0.56994401, 0.57951126, 0.58907852,\n",
       "        0.59864577, 0.60821302, 0.61778028, 0.62734753, 0.63691479,\n",
       "        0.64648204, 0.6560493 , 0.66561655, 0.6751838 , 0.68475106,\n",
       "        0.69431831, 0.70388557, 0.71345282, 0.72302008, 0.73258733,\n",
       "        0.74215458, 0.75172184, 0.76128909, 0.77085635, 0.7804236 ,\n",
       "        0.78999086, 0.79955811, 0.80912536, 0.81869262, 0.82825987,\n",
       "        0.83782713, 0.84739438, 0.85696164, 0.86652889, 0.87609614,\n",
       "        0.8856634 , 0.89523065, 0.90479791, 0.91436516, 0.92393242,\n",
       "        0.93349967, 0.94306692, 0.95263418, 0.96220143, 0.97176869,\n",
       "        0.98133594]),\n",
       " <BarContainer object of 100 artists>)"
      ]
     },
     "execution_count": 34,
     "metadata": {},
     "output_type": "execute_result"
    },
    {
     "data": {
      "image/png": "[encoded data removed]",
      "text/plain": [
       "<Figure size 640x480 with 1 Axes>"
      ]
     },
     "metadata": {},
     "output_type": "display_data"
    }
   ],
   "source": [
    "mat.hist(A,bins=100)"
   ]
  },
  {
   "cell_type": "code",
   "execution_count": 35,
   "id": "acacdb1e-d414-47dc-a867-c4a8f205147d",
   "metadata": {},
   "outputs": [],
   "source": [
    "#no worries we will see later "
   ]
  },
  {
   "cell_type": "code",
   "execution_count": 36,
   "id": "d4c01b84-5609-49d4-843f-e452dc69b316",
   "metadata": {},
   "outputs": [
    {
     "name": "stdout",
     "output_type": "stream",
     "text": [
      "[[0.16193154 0.88158617 0.6179711 ]\n",
      " [0.04281818 0.16953798 0.38401402]]\n"
     ]
    }
   ],
   "source": [
    "#Creating array of any dimmensions with rand function\n",
    "\n",
    "x=np.random.rand(2,3)\n",
    "print (x)  #dimmensions is depending on number of arguments passed in the function"
   ]
  },
  {
   "cell_type": "code",
   "execution_count": 37,
   "id": "0c03864f-48d7-4527-bf93-1a916caaaae6",
   "metadata": {},
   "outputs": [
    {
     "data": {
      "text/plain": [
       "(array([[1., 1., 0., 0., 0., 0., 0., 0., 0., 0.],\n",
       "        [0., 1., 0., 0., 0., 0., 0., 0., 0., 1.],\n",
       "        [0., 0., 0., 0., 1., 0., 1., 0., 0., 0.]]),\n",
       " array([0.04281818, 0.12669498, 0.21057178, 0.29444858, 0.37832538,\n",
       "        0.46220217, 0.54607897, 0.62995577, 0.71383257, 0.79770937,\n",
       "        0.88158617]),\n",
       " <a list of 3 BarContainer objects>)"
      ]
     },
     "execution_count": 37,
     "metadata": {},
     "output_type": "execute_result"
    },
    {
     "data": {
      "image/png": "[encoded data removed]",
      "text/plain": [
       "<Figure size 640x480 with 1 Axes>"
      ]
     },
     "metadata": {},
     "output_type": "display_data"
    }
   ],
   "source": [
    "mat.hist(x)"
   ]
  },
  {
   "cell_type": "code",
   "execution_count": 38,
   "id": "019ca8e3-6652-4633-962c-5eead45dffb9",
   "metadata": {},
   "outputs": [
    {
     "data": {
      "text/plain": [
       "array([[0.16193154, 0.88158617],\n",
       "       [0.6179711 , 0.04281818],\n",
       "       [0.16953798, 0.38401402]])"
      ]
     },
     "execution_count": 38,
     "metadata": {},
     "output_type": "execute_result"
    }
   ],
   "source": [
    "#think when we need to change then shape of our array ,this can be done by reshape\n",
    "\n",
    "x.reshape(3,2)"
   ]
  },
  {
   "cell_type": "code",
   "execution_count": 45,
   "id": "6601308d-a460-4dad-8887-96b63b8bc77b",
   "metadata": {},
   "outputs": [
    {
     "name": "stdout",
     "output_type": "stream",
     "text": [
      "3\n"
     ]
    }
   ],
   "source": [
    "#we can also change the dimmensions \n",
    "\n",
    "x=np.arange(100).reshape(4,5,5)\n",
    "\n",
    "print(x.ndim)"
   ]
  },
  {
   "cell_type": "code",
   "execution_count": 47,
   "id": "e4e5cb4d-4acb-4244-b634-e063238fd360",
   "metadata": {},
   "outputs": [
    {
     "name": "stdout",
     "output_type": "stream",
     "text": [
      "[0. 0. 0. 0. 0. 0. 0. 0. 0. 0.]\n"
     ]
    }
   ],
   "source": [
    "s=np.zeros(10) # create array of zeros\n",
    "print(s)"
   ]
  },
  {
   "cell_type": "code",
   "execution_count": 48,
   "id": "da15d09a-4c42-40db-9313-b270109f5d84",
   "metadata": {},
   "outputs": [
    {
     "name": "stdout",
     "output_type": "stream",
     "text": [
      "[1. 1. 1. 1. 1. 1. 1. 1. 1. 1.]\n"
     ]
    }
   ],
   "source": [
    "s=np.ones(10) # create array of ones\n",
    "print(s)"
   ]
  },
  {
   "cell_type": "markdown",
   "id": "02afcdf1-dd3a-4c08-8a6f-2df81eea6c39",
   "metadata": {},
   "source": [
    "They are normally used for testing models and for data analysis "
   ]
  },
  {
   "cell_type": "code",
   "execution_count": 18,
   "id": "be6a937b-c188-47b4-b973-01b3dc0f3683",
   "metadata": {},
   "outputs": [
    {
     "data": {
      "text/plain": [
       "array([ 0,  1,  2,  3,  4,  5,  6,  7,  8,  9, 10, 11, 12, 13, 14, 15, 16,\n",
       "       17, 18, 19])"
      ]
     },
     "execution_count": 18,
     "metadata": {},
     "output_type": "execute_result"
    }
   ],
   "source": [
    "#SLicing \n",
    "\n",
    "A=np.arange(20)\n",
    "A"
   ]
  },
  {
   "cell_type": "code",
   "execution_count": 20,
   "id": "42aac032-75f4-4f00-ad5f-8ffc6620c4ef",
   "metadata": {},
   "outputs": [
    {
     "data": {
      "text/plain": [
       "array([2, 3, 4, 5, 6, 7, 8, 9])"
      ]
     },
     "execution_count": 20,
     "metadata": {},
     "output_type": "execute_result"
    }
   ],
   "source": [
    "B=A[2:10]\n",
    "B"
   ]
  },
  {
   "cell_type": "code",
   "execution_count": 21,
   "id": "70a5dcd5-3858-49e2-8f1f-a8c8d4f14d40",
   "metadata": {},
   "outputs": [
    {
     "data": {
      "text/plain": [
       "array([  0,   1,   2,   3, 999,   5,   6,   7,   8,   9,  10,  11,  12,\n",
       "        13,  14,  15,  16,  17,  18,  19])"
      ]
     },
     "execution_count": 21,
     "metadata": {},
     "output_type": "execute_result"
    }
   ],
   "source": [
    "#when you change contents of B , A contents will also change \n",
    "B[2]=999\n",
    "A\n"
   ]
  },
  {
   "cell_type": "code",
   "execution_count": 22,
   "id": "631f6c16-ff95-4ffc-945f-24f7c13fb1d5",
   "metadata": {},
   "outputs": [
    {
     "data": {
      "text/plain": [
       "array([  2,   3, 999,   5,   6,   7,   8,   9])"
      ]
     },
     "execution_count": 22,
     "metadata": {},
     "output_type": "execute_result"
    }
   ],
   "source": [
    "#its is bcz this is pass by reference so there memory locations are same \n",
    "\n",
    "#to prevent from this use copy()\n",
    "\n",
    "B=A[2:10].copy()\n",
    "\n",
    "B"
   ]
  },
  {
   "cell_type": "code",
   "execution_count": 23,
   "id": "b71614ad-aa47-4830-be5f-9c1f771c0191",
   "metadata": {},
   "outputs": [
    {
     "name": "stdout",
     "output_type": "stream",
     "text": [
      "[    2     3 10000     5     6     7     8     9]\n",
      "[  0   1   2   3 999   5   6   7   8   9  10  11  12  13  14  15  16  17\n",
      "  18  19]\n"
     ]
    }
   ],
   "source": [
    "B[2]=10000\n",
    "print(B)\n",
    "print(A)"
   ]
  },
  {
   "cell_type": "code",
   "execution_count": 7,
   "id": "f14910d2-2379-4730-bb89-586cd767e9ed",
   "metadata": {},
   "outputs": [],
   "source": [
    "#NO CHNAGE IN A \n"
   ]
  },
  {
   "cell_type": "markdown",
   "id": "275b7989-c822-4ca2-8d85-5079c8a9bc59",
   "metadata": {},
   "source": [
    "Finding a specific value with index"
   ]
  },
  {
   "cell_type": "code",
   "execution_count": 24,
   "id": "d71af809-944f-416a-8cde-0a52c3af9df0",
   "metadata": {
    "scrolled": true
   },
   "outputs": [],
   "source": [
    "idx=np.argwhere(A==999)[0][0] # returning a index where value is found "
   ]
  },
  {
   "cell_type": "code",
   "execution_count": 12,
   "id": "d3d8b9de-42d5-453e-8299-e3e3dcdb328b",
   "metadata": {},
   "outputs": [
    {
     "data": {
      "text/plain": [
       "4"
      ]
     },
     "execution_count": 12,
     "metadata": {},
     "output_type": "execute_result"
    }
   ],
   "source": [
    "idx\n"
   ]
  },
  {
   "cell_type": "code",
   "execution_count": 13,
   "id": "38ad9343-0794-44bc-a56f-99e36352c1da",
   "metadata": {},
   "outputs": [
    {
     "name": "stdout",
     "output_type": "stream",
     "text": [
      "[[ 6. 10.  7.  1.]\n",
      " [ 9.  1.  3.  5.]\n",
      " [ 5.  9.  9.  8.]\n",
      " [ 5.  4. 10.  3.]\n",
      " [ 5.  4.  5.  5.]]\n"
     ]
    }
   ],
   "source": [
    "#A[start:end:steps]\n",
    "\n",
    "A=np.round(10*np.random.rand(5,4)) #creating a 5 by 4 matrix and then multiply by 10 and then rounding bcz rand returns value btw 0 and 1\n",
    "\n",
    "print(A)"
   ]
  },
  {
   "cell_type": "code",
   "execution_count": 15,
   "id": "ca48cdf1-7fea-4088-b768-d767d5583e37",
   "metadata": {},
   "outputs": [
    {
     "data": {
      "text/plain": [
       "array([5., 9., 9., 8.])"
      ]
     },
     "execution_count": 15,
     "metadata": {},
     "output_type": "execute_result"
    }
   ],
   "source": [
    "#Accessing specific rows or columns or sub matrix \n",
    "\n",
    "    #ROW 3\n",
    "\n",
    "A[2,:]"
   ]
  },
  {
   "cell_type": "code",
   "execution_count": 18,
   "id": "b38a4765-5b01-4594-b323-7e76efff59e8",
   "metadata": {},
   "outputs": [
    {
     "data": {
      "text/plain": [
       "array([1., 5., 8., 3., 5.])"
      ]
     },
     "execution_count": 18,
     "metadata": {},
     "output_type": "execute_result"
    }
   ],
   "source": [
    "#Column 4\n",
    "\n",
    "A[:,3]"
   ]
  },
  {
   "cell_type": "code",
   "execution_count": 20,
   "id": "a90beba5-e1b3-4c43-81e1-c22565ce3fa3",
   "metadata": {},
   "outputs": [
    {
     "data": {
      "text/plain": [
       "array([[3., 5.],\n",
       "       [9., 8.]])"
      ]
     },
     "execution_count": 20,
     "metadata": {},
     "output_type": "execute_result"
    }
   ],
   "source": [
    "#accessing  a sub matrix \n",
    "\n",
    "A[1:3,2:4] #here in 1:3 3 is not included as well as in 2:4 4 is not included"
   ]
  },
  {
   "cell_type": "code",
   "execution_count": 21,
   "id": "bef95ae8-9caa-40df-8f7f-ec7b4e3e4115",
   "metadata": {},
   "outputs": [
    {
     "data": {
      "text/plain": [
       "array([[ 6.,  9.,  5.,  5.,  5.],\n",
       "       [10.,  1.,  9.,  4.,  4.],\n",
       "       [ 7.,  3.,  9., 10.,  5.],\n",
       "       [ 1.,  5.,  8.,  3.,  5.]])"
      ]
     },
     "execution_count": 21,
     "metadata": {},
     "output_type": "execute_result"
    }
   ],
   "source": [
    "#for taking transpose \n",
    "\n",
    "A.T"
   ]
  },
  {
   "cell_type": "code",
   "execution_count": 27,
   "id": "e2fc7248-fd50-432e-8c0a-5ba9c48a9c61",
   "metadata": {},
   "outputs": [
    {
     "data": {
      "text/plain": [
       "array([[ -7.06959109,   5.03939869],\n",
       "       [ 30.0132755 , -16.91130326]])"
      ]
     },
     "execution_count": 27,
     "metadata": {},
     "output_type": "execute_result"
    }
   ],
   "source": [
    "#as well as for linear algebra function there is a function module named numpy.linalg\n",
    "\n",
    "import numpy.linalg as alg\n",
    "\n",
    "alg.inv(np.random.rand(2,2))\n",
    "#There is a lot of functions you can have in this module/package "
   ]
  },
  {
   "cell_type": "code",
   "execution_count": 28,
   "id": "d72100dc-5bfb-42e7-9c83-8e4b4cfb81f7",
   "metadata": {},
   "outputs": [
    {
     "data": {
      "text/plain": [
       "array([ 1.47334105, -0.1704463 ])"
      ]
     },
     "execution_count": 28,
     "metadata": {},
     "output_type": "execute_result"
    }
   ],
   "source": [
    "alg.eigvals(np.random.rand(2,2))"
   ]
  },
  {
   "cell_type": "code",
   "execution_count": 29,
   "id": "bf39fb35-d794-47f2-936d-bce938b2ba6f",
   "metadata": {},
   "outputs": [],
   "source": [
    "#many more to discover at your own"
   ]
  },
  {
   "cell_type": "code",
   "execution_count": 31,
   "id": "7203f1e9-2cdc-417e-985a-64f9b01132c1",
   "metadata": {},
   "outputs": [
    {
     "data": {
      "text/plain": [
       "array([[ 5.,  1.,  3.,  1.],\n",
       "       [ 5.,  4.,  5.,  3.],\n",
       "       [ 5.,  4.,  7.,  5.],\n",
       "       [ 6.,  9.,  9.,  5.],\n",
       "       [ 9., 10., 10.,  8.]])"
      ]
     },
     "execution_count": 31,
     "metadata": {},
     "output_type": "execute_result"
    }
   ],
   "source": [
    "#sorting rows  and columns\n",
    "\n",
    "A.sort(axis=0) #sorted columns\n",
    "A\n"
   ]
  },
  {
   "cell_type": "code",
   "execution_count": 32,
   "id": "1fe8e73f-8257-4624-be23-7211688ac799",
   "metadata": {},
   "outputs": [
    {
     "data": {
      "text/plain": [
       "array([[ 1.,  1.,  3.,  5.],\n",
       "       [ 3.,  4.,  5.,  5.],\n",
       "       [ 4.,  5.,  5.,  7.],\n",
       "       [ 5.,  6.,  9.,  9.],\n",
       "       [ 8.,  9., 10., 10.]])"
      ]
     },
     "execution_count": 32,
     "metadata": {},
     "output_type": "execute_result"
    }
   ],
   "source": [
    "A.sort(axis=1) #sorted rows\n",
    "A"
   ]
  },
  {
   "cell_type": "code",
   "execution_count": 35,
   "id": "21f00be6-9298-4aa0-bf23-5d1ecc9910c2",
   "metadata": {},
   "outputs": [
    {
     "data": {
      "text/plain": [
       "array([[ 1.,  1.,  3.,  5.],\n",
       "       [ 3.,  4.,  5.,  5.],\n",
       "       [ 4.,  5.,  5.,  7.],\n",
       "       [ 5.,  6.,  9.,  9.],\n",
       "       [ 8.,  9., 10., 10.]])"
      ]
     },
     "execution_count": 35,
     "metadata": {},
     "output_type": "execute_result"
    }
   ],
   "source": [
    "#for complete sort\n",
    "\n",
    "A.sort()\n",
    "A"
   ]
  },
  {
   "cell_type": "code",
   "execution_count": 44,
   "id": "1a434da7-a4d7-40bc-872c-7805fd6d492f",
   "metadata": {},
   "outputs": [
    {
     "data": {
      "text/plain": [
       "array([[[ 3.,  1.,  3.],\n",
       "        [ 2.,  0.,  4.],\n",
       "        [ 5.,  4., 10.]],\n",
       "\n",
       "       [[ 7.,  7.,  2.],\n",
       "        [ 7.,  6.,  9.],\n",
       "        [ 6.,  6., 10.]],\n",
       "\n",
       "       [[ 9.,  5.,  9.],\n",
       "        [ 5.,  2.,  9.],\n",
       "        [ 3.,  1.,  5.]]])"
      ]
     },
     "execution_count": 44,
     "metadata": {},
     "output_type": "execute_result"
    }
   ],
   "source": [
    "B=np.round(10*np.random.rand(3,3,3))\n",
    "B"
   ]
  },
  {
   "cell_type": "code",
   "execution_count": 47,
   "id": "58e39c5e-7386-4a97-ba65-47df762fdcc7",
   "metadata": {},
   "outputs": [],
   "source": [
    "C=B.copy()\n",
    "D=B.copy()\n",
    "E=B.copy()"
   ]
  },
  {
   "cell_type": "code",
   "execution_count": 48,
   "id": "cc6a64df-dc38-4e42-b13c-3d964712e8c3",
   "metadata": {},
   "outputs": [],
   "source": [
    "C.sort(axis=0)\n",
    "D.sort(axis=1)\n",
    "E.sort(axis=2)"
   ]
  },
  {
   "cell_type": "code",
   "execution_count": 51,
   "id": "8d15b5be-b407-4824-b64e-d7f0f0593c58",
   "metadata": {},
   "outputs": [
    {
     "data": {
      "text/plain": [
       "array([[[ 1.,  3.,  3.],\n",
       "        [ 0.,  2.,  4.],\n",
       "        [ 4.,  5., 10.]],\n",
       "\n",
       "       [[ 2.,  7.,  7.],\n",
       "        [ 6.,  7.,  9.],\n",
       "        [ 6.,  6., 10.]],\n",
       "\n",
       "       [[ 5.,  9.,  9.],\n",
       "        [ 2.,  5.,  9.],\n",
       "        [ 1.,  3.,  5.]]])"
      ]
     },
     "execution_count": 51,
     "metadata": {},
     "output_type": "execute_result"
    }
   ],
   "source": [
    "E"
   ]
  },
  {
   "cell_type": "code",
   "execution_count": 2,
   "id": "d7870d86-a94a-4473-a855-692e85ba61d9",
   "metadata": {},
   "outputs": [],
   "source": [
    "#you can print other too and check which axis belongs to a number (0,1,2...)"
   ]
  },
  {
   "cell_type": "markdown",
   "id": "710c57bc-38d2-49d1-bbd0-2360b6bbab74",
   "metadata": {},
   "source": [
    "More Indexing in numpy arrays"
   ]
  },
  {
   "cell_type": "code",
   "execution_count": 10,
   "id": "8b19a91a-c093-4302-b770-9efe2a189937",
   "metadata": {},
   "outputs": [
    {
     "name": "stdout",
     "output_type": "stream",
     "text": [
      "[ 6.  3.  4.  7.  4.  1.  4.  3.  9.  4.  2. 10.  9.  3.  2.  4.  6.  5.\n",
      "  1.  3.]\n"
     ]
    }
   ],
   "source": [
    "a=np.round(10*np.random.rand(20))\n",
    "           \n",
    "\n",
    "print(a)"
   ]
  },
  {
   "cell_type": "code",
   "execution_count": 12,
   "id": "ee2a68c4-5ad2-4115-80df-77ac3f99ec07",
   "metadata": {},
   "outputs": [
    {
     "data": {
      "text/plain": [
       "array([3., 4., 4.])"
      ]
     },
     "execution_count": 12,
     "metadata": {},
     "output_type": "execute_result"
    }
   ],
   "source": [
    "a[[1,2,4]] # returns values at index 1,2 ,4 "
   ]
  },
  {
   "cell_type": "code",
   "execution_count": 16,
   "id": "1b76f0f0-40cb-46dd-9093-9a05b911fd2b",
   "metadata": {},
   "outputs": [
    {
     "data": {
      "text/plain": [
       "array([0, 2, 3, 5, 7])"
      ]
     },
     "execution_count": 16,
     "metadata": {},
     "output_type": "execute_result"
    }
   ],
   "source": [
    "a=np.arange(8)\n",
    "a[[True,False,True,True ,False,True,False ,True]]# retrurns value at which index is true"
   ]
  },
  {
   "cell_type": "code",
   "execution_count": 3,
   "id": "91f633eb-edc7-4d7b-8bdc-80a601163424",
   "metadata": {},
   "outputs": [
    {
     "name": "stdout",
     "output_type": "stream",
     "text": [
      "[0 1 2 3 4 5 6 7]\n"
     ]
    }
   ],
   "source": [
    "a=np.arange(20)\n",
    "B=a[a<8] # returns array of values less than 8 \n",
    "print(B)"
   ]
  },
  {
   "cell_type": "code",
   "execution_count": 28,
   "id": "594db3b5-af66-4f7f-91a7-2f1b1e1b213e",
   "metadata": {},
   "outputs": [],
   "source": [
    "#if you can contents of B  it doesnt effect the contents of A because its just copied in it "
   ]
  },
  {
   "cell_type": "code",
   "execution_count": 4,
   "id": "2a6cc0dd-18af-47f2-87ea-d0cf06104a31",
   "metadata": {},
   "outputs": [
    {
     "name": "stdout",
     "output_type": "stream",
     "text": [
      "[3 4 5]\n"
     ]
    }
   ],
   "source": [
    "'''\n",
    "&,and \n",
    "|,or \n",
    "~,not \n",
    "right sides are used for arrays , and leftS side are used for single object'''\n",
    "\n",
    "c=a[(a<6)&(a>2)]\n",
    "\n",
    "print(c)\n",
    "\n",
    "\n"
   ]
  },
  {
   "cell_type": "code",
   "execution_count": 32,
   "id": "d63895fa-be18-4552-863e-869cb45f2b40",
   "metadata": {},
   "outputs": [
    {
     "data": {
      "text/plain": [
       "array([[9., 2., 4.],\n",
       "       [1., 6., 7.]])"
      ]
     },
     "execution_count": 32,
     "metadata": {},
     "output_type": "execute_result"
    }
   ],
   "source": [
    "#broadcasting in multi-dimmensional Arrays\n",
    "\n",
    "a=np.round(10*np.random.rand(2,3))\n",
    "a"
   ]
  },
  {
   "cell_type": "code",
   "execution_count": 34,
   "id": "80171aa7-b2ba-4288-b3a2-7370bd992510",
   "metadata": {},
   "outputs": [
    {
     "data": {
      "text/plain": [
       "array([[12.,  5.,  7.],\n",
       "       [ 4.,  9., 10.]])"
      ]
     },
     "execution_count": 34,
     "metadata": {},
     "output_type": "execute_result"
    }
   ],
   "source": [
    "a+3 # adds 3 to each value "
   ]
  },
  {
   "cell_type": "code",
   "execution_count": 35,
   "id": "49c7b8ad-9175-4f55-b9b7-3dc805f63b4a",
   "metadata": {},
   "outputs": [],
   "source": [
    "b=(np.arange(2)).reshape(2,1) # it only adds those value that can be streched vertically and horizantally to make like the same dimmesnion of org."
   ]
  },
  {
   "cell_type": "code",
   "execution_count": 36,
   "id": "5f01bf0f-fae4-4893-99dc-d9da5e19a547",
   "metadata": {},
   "outputs": [
    {
     "data": {
      "text/plain": [
       "array([[9., 2., 4.],\n",
       "       [2., 7., 8.]])"
      ]
     },
     "execution_count": 36,
     "metadata": {},
     "output_type": "execute_result"
    }
   ],
   "source": [
    "a+b"
   ]
  },
  {
   "cell_type": "code",
   "execution_count": 39,
   "id": "c3a1d859-120d-45ac-8575-5a9461c3d3cd",
   "metadata": {},
   "outputs": [],
   "source": [
    "# b=(np.arange(2)).reshape(2,1) # but it can't do 1 by 2 matrix addition to the matrix because it cant be broadcast  \n",
    "#a+b\n",
    "#generating an error"
   ]
  },
  {
   "cell_type": "code",
   "execution_count": 41,
   "id": "86089e30-a930-4748-8e19-48e726d0d630",
   "metadata": {},
   "outputs": [
    {
     "name": "stdout",
     "output_type": "stream",
     "text": [
      "[[ 2.  4.  8.  8. 10. 10.]\n",
      " [ 6.  4.  8.  9.  1.  4.]]\n"
     ]
    }
   ],
   "source": [
    "a=np.round(10*np.random.rand(2,3))\n",
    "b=np.round(10*np.random.rand(2,3))\n",
    "\n",
    "C=np.hstack((a,b)) # concatenate two arrays horizantally\n",
    "\n",
    "print(C)"
   ]
  },
  {
   "cell_type": "code",
   "execution_count": 42,
   "id": "097c32b4-3e9a-4879-a574-0eb656922e52",
   "metadata": {},
   "outputs": [
    {
     "data": {
      "text/plain": [
       "array([[ 2.,  4.,  8.],\n",
       "       [ 6.,  4.,  8.],\n",
       "       [ 8., 10., 10.],\n",
       "       [ 9.,  1.,  4.]])"
      ]
     },
     "execution_count": 42,
     "metadata": {},
     "output_type": "execute_result"
    }
   ],
   "source": [
    "D=np.vstack((a,b))\n",
    "D"
   ]
  },
  {
   "cell_type": "code",
   "execution_count": 44,
   "id": "91d86fbf-417d-4de5-9814-bbd6514f2c35",
   "metadata": {},
   "outputs": [
    {
     "data": {
      "text/plain": [
       "array([0, 4, 8, 9, 3, 2, 5, 1, 7, 6])"
      ]
     },
     "execution_count": 44,
     "metadata": {},
     "output_type": "execute_result"
    }
   ],
   "source": [
    "A=np.random.permutation(np.arange(10))\n",
    "A"
   ]
  },
  {
   "cell_type": "code",
   "execution_count": 45,
   "id": "24fe09c2-7076-462d-90c3-886a40b19305",
   "metadata": {},
   "outputs": [
    {
     "data": {
      "text/plain": [
       "array([0, 1, 2, 3, 4, 5, 6, 7, 8, 9])"
      ]
     },
     "execution_count": 45,
     "metadata": {},
     "output_type": "execute_result"
    }
   ],
   "source": [
    "np.sort(A)"
   ]
  },
  {
   "cell_type": "code",
   "execution_count": 55,
   "id": "606ca15e-bc87-49db-8697-50f1a7fe316e",
   "metadata": {},
   "outputs": [],
   "source": [
    "#now we will see the speed of numpy function with your own function and python built function"
   ]
  },
  {
   "cell_type": "code",
   "execution_count": 63,
   "id": "82f552e7-6d02-468c-a4b5-cb8e796aed48",
   "metadata": {},
   "outputs": [
    {
     "name": "stdout",
     "output_type": "stream",
     "text": [
      "19.5 ms ± 653 μs per loop (mean ± std. dev. of 7 runs, 100 loops each)\n",
      "80.3 μs ± 625 ns per loop (mean ± std. dev. of 7 runs, 10,000 loops each)\n",
      "26.8 ms ± 1.05 ms per loop (mean ± std. dev. of 7 runs, 10 loops each)\n"
     ]
    }
   ],
   "source": [
    "B=np.random.rand(100000)\n",
    "\n",
    "def mysum (X):\n",
    "    s=0\n",
    "    for x in X:\n",
    "        s+=x\n",
    "    return s\n",
    "%timeit sum(B) #python built in func.\n",
    "%timeit np.sum(B) #numpy built in func.\n",
    "%timeit mysum(B) # your function\n"
   ]
  },
  {
   "cell_type": "code",
   "execution_count": 64,
   "id": "04bfb674-6cac-4651-aa47-2a1f1df5dcd5",
   "metadata": {},
   "outputs": [
    {
     "data": {
      "text/plain": [
       "'Hence , numpy is much much faster than original python functions '"
      ]
     },
     "execution_count": 64,
     "metadata": {},
     "output_type": "execute_result"
    }
   ],
   "source": [
    "# as you can see the time of numpy func is 80 x 10 power -6 seconds while of other is 20 x 10 raise power -3 \n",
    "\n",
    "\"\"\"Hence , numpy is much much faster than original python functions \"\"\""
   ]
  }
 ],
 "metadata": {
  "kernelspec": {
   "display_name": "Python [conda env:base] *",
   "language": "python",
   "name": "conda-base-py"
  },
  "language_info": {
   "codemirror_mode": {
    "name": "ipython",
    "version": 3
   },
   "file_extension": ".py",
   "mimetype": "text/x-python",
   "name": "python",
   "nbconvert_exporter": "python",
   "pygments_lexer": "ipython3",
   "version": "3.12.7"
  }
 },
 "nbformat": 4,
 "nbformat_minor": 5
}
