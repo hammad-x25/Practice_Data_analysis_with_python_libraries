{
 "cells": [
  {
   "cell_type": "code",
   "execution_count": 1,
   "id": "fc6a8a99-ae12-4da5-9128-cc410f89822f",
   "metadata": {},
   "outputs": [],
   "source": [
    "import pandas as pd"
   ]
  },
  {
   "cell_type": "code",
   "execution_count": 5,
   "id": "8fd945ec-d355-4816-ad49-d001162947a8",
   "metadata": {},
   "outputs": [
    {
     "name": "stdout",
     "output_type": "stream",
     "text": [
      "2.2.2\n"
     ]
    }
   ],
   "source": [
    "print(pd.__version__)  #checking pandas version"
   ]
  },
  {
   "cell_type": "code",
   "execution_count": 6,
   "id": "3a2d4141-a2b7-43a2-b0d8-dc93fba4aad0",
   "metadata": {},
   "outputs": [],
   "source": [
    "#creating a series in pandas , basically pandas stand on the top of numpy "
   ]
  },
  {
   "cell_type": "markdown",
   "id": "c28ea1cf-e8c1-4e07-b91b-7a7b63c9efeb",
   "metadata": {},
   "source": [
    "Initailizing Values "
   ]
  },
  {
   "cell_type": "code",
   "execution_count": 8,
   "id": "b0191146-0bd5-4896-b0f5-d90c5a10c1f9",
   "metadata": {},
   "outputs": [],
   "source": [
    "A= pd.Series([2,3,4,5],index=['a','2','c','d']) # you can set  your keys index to the values otherwise default is 0,1,2..."
   ]
  },
  {
   "cell_type": "code",
   "execution_count": 10,
   "id": "128e5c9a-0a03-4b68-afff-4f3899a937d0",
   "metadata": {},
   "outputs": [
    {
     "data": {
      "text/plain": [
       "2"
      ]
     },
     "execution_count": 10,
     "metadata": {},
     "output_type": "execute_result"
    }
   ],
   "source": [
    "A['a']"
   ]
  },
  {
   "cell_type": "code",
   "execution_count": 12,
   "id": "ab8084ce-ac57-4417-b2ed-32f503f246c3",
   "metadata": {},
   "outputs": [
    {
     "data": {
      "text/plain": [
       "3"
      ]
     },
     "execution_count": 12,
     "metadata": {},
     "output_type": "execute_result"
    }
   ],
   "source": [
    "A['2']"
   ]
  },
  {
   "cell_type": "markdown",
   "id": "c208cfcc-d79b-4ca8-9c9a-a904d0e1f83a",
   "metadata": {},
   "source": [
    "Accessing Values "
   ]
  },
  {
   "cell_type": "code",
   "execution_count": 13,
   "id": "188dfbf2-15ea-4b77-a0bc-e27bb184b33c",
   "metadata": {},
   "outputs": [],
   "source": [
    "B=pd.Series([1,2,3,4,5,6])"
   ]
  },
  {
   "cell_type": "code",
   "execution_count": 14,
   "id": "9823940e-d637-4301-8e84-fd1fa1993d3e",
   "metadata": {},
   "outputs": [
    {
     "data": {
      "text/plain": [
       "3"
      ]
     },
     "execution_count": 14,
     "metadata": {},
     "output_type": "execute_result"
    }
   ],
   "source": [
    "#now by default accessing \n",
    "\n",
    "B[2]"
   ]
  },
  {
   "cell_type": "markdown",
   "id": "746bfdbd-1727-49e8-9dc8-95dc161d8ed5",
   "metadata": {},
   "source": [
    "Accessing values of the list and the indexs list "
   ]
  },
  {
   "cell_type": "code",
   "execution_count": 16,
   "id": "5c72c43e-2de8-4259-9a67-87c2800706fe",
   "metadata": {},
   "outputs": [
    {
     "data": {
      "text/plain": [
       "pandas.core.series.Series"
      ]
     },
     "execution_count": 16,
     "metadata": {},
     "output_type": "execute_result"
    }
   ],
   "source": [
    "type(A)"
   ]
  },
  {
   "cell_type": "code",
   "execution_count": 18,
   "id": "c5cb8415-1301-4fc8-9b82-b850a2f7fa7c",
   "metadata": {},
   "outputs": [
    {
     "data": {
      "text/plain": [
       "numpy.ndarray"
      ]
     },
     "execution_count": 18,
     "metadata": {},
     "output_type": "execute_result"
    }
   ],
   "source": [
    "type(A.values)"
   ]
  },
  {
   "cell_type": "code",
   "execution_count": 19,
   "id": "dfce0bb6-026a-444c-9633-813c5a78a1cc",
   "metadata": {},
   "outputs": [
    {
     "data": {
      "text/plain": [
       "array([2, 3, 4, 5], dtype=int64)"
      ]
     },
     "execution_count": 19,
     "metadata": {},
     "output_type": "execute_result"
    }
   ],
   "source": [
    "A.values"
   ]
  },
  {
   "cell_type": "code",
   "execution_count": 20,
   "id": "5a5b88f7-b911-42b1-8107-47c2ecaa32cb",
   "metadata": {},
   "outputs": [
    {
     "data": {
      "text/plain": [
       "array([1, 2, 3, 4, 5, 6], dtype=int64)"
      ]
     },
     "execution_count": 20,
     "metadata": {},
     "output_type": "execute_result"
    }
   ],
   "source": [
    "B.values"
   ]
  },
  {
   "cell_type": "code",
   "execution_count": 21,
   "id": "a9c28aaf-95f9-4976-9f78-49427c7a6042",
   "metadata": {},
   "outputs": [
    {
     "data": {
      "text/plain": [
       "RangeIndex(start=0, stop=6, step=1)"
      ]
     },
     "execution_count": 21,
     "metadata": {},
     "output_type": "execute_result"
    }
   ],
   "source": [
    "B.index "
   ]
  },
  {
   "cell_type": "code",
   "execution_count": 22,
   "id": "b55bb4eb-d77c-423e-88b2-0dced2b0bfe2",
   "metadata": {},
   "outputs": [
    {
     "data": {
      "text/plain": [
       "Index(['a', '2', 'c', 'd'], dtype='object')"
      ]
     },
     "execution_count": 22,
     "metadata": {},
     "output_type": "execute_result"
    }
   ],
   "source": [
    "A.index"
   ]
  },
  {
   "cell_type": "markdown",
   "id": "f521597b-744a-4d7e-b107-49c1a1b1c7a7",
   "metadata": {},
   "source": [
    "Slicing "
   ]
  },
  {
   "cell_type": "code",
   "execution_count": 32,
   "id": "8e268cfd-9026-4d68-a776-b114b82704b8",
   "metadata": {},
   "outputs": [
    {
     "data": {
      "text/plain": [
       "a    2\n",
       "2    3\n",
       "c    4\n",
       "dtype: int64"
      ]
     },
     "execution_count": 32,
     "metadata": {},
     "output_type": "execute_result"
    }
   ],
   "source": [
    "A['a':'c']"
   ]
  },
  {
   "cell_type": "code",
   "execution_count": 2,
   "id": "99f5f39b-c307-4a0f-abae-3d8698bdc271",
   "metadata": {},
   "outputs": [
    {
     "data": {
      "text/plain": [
       "'one thing to notice here  if you do slicing with your own keys then in the slicing the end term will be included in slicing \\n  other wise in default slicing with indexes 0,1,2,... ,end is not included'"
      ]
     },
     "execution_count": 2,
     "metadata": {},
     "output_type": "execute_result"
    }
   ],
   "source": [
    "\"\"\"one thing to notice here  if you do slicing with your own keys then in the slicing the end term will be included in slicing \n",
    "  other wise in default slicing with indexes 0,1,2,... ,end is not included\"\"\" "
   ]
  },
  {
   "cell_type": "code",
   "execution_count": 37,
   "id": "4b191c9e-a781-4b56-89ac-cb273fb22dcf",
   "metadata": {},
   "outputs": [
    {
     "data": {
      "text/plain": [
       "0    1\n",
       "1    2\n",
       "2    3\n",
       "3    4\n",
       "dtype: int64"
      ]
     },
     "execution_count": 37,
     "metadata": {},
     "output_type": "execute_result"
    }
   ],
   "source": [
    "B[0:4] "
   ]
  },
  {
   "cell_type": "code",
   "execution_count": 39,
   "id": "ad90c4bd-dae1-4dd8-b5fe-c0d0ceafe945",
   "metadata": {},
   "outputs": [],
   "source": [
    "C=pd.Series([1,2,3,4,5],index=['a','b',0,1,2])"
   ]
  },
  {
   "cell_type": "code",
   "execution_count": 42,
   "id": "d7a60507-5dd1-4907-8f74-4b0c4c808050",
   "metadata": {},
   "outputs": [
    {
     "name": "stdout",
     "output_type": "stream",
     "text": [
      "a    1\n",
      "b    2\n",
      "0    3\n",
      "dtype: int64\n"
     ]
    }
   ],
   "source": [
    "print(C[0:3])#ordinary slicing "
   ]
  },
  {
   "cell_type": "code",
   "execution_count": 43,
   "id": "ee01bd87-530c-4617-8198-04f80b23bad8",
   "metadata": {},
   "outputs": [
    {
     "name": "stdout",
     "output_type": "stream",
     "text": [
      "a    1\n",
      "b    2\n",
      "0    3\n",
      "1    4\n",
      "dtype: int64\n"
     ]
    }
   ],
   "source": [
    "print(C['a':1])#key slicing "
   ]
  },
  {
   "cell_type": "code",
   "execution_count": 44,
   "id": "414ce6cb-dcfe-47bb-b114-29970c0014ad",
   "metadata": {},
   "outputs": [],
   "source": [
    "D=pd.Series([1,2,3,4,5,6,7],index=[0,1,2,3,4,5,6])\n"
   ]
  },
  {
   "cell_type": "code",
   "execution_count": 46,
   "id": "5dfb0323-b1e1-402e-8ee7-013b013454f8",
   "metadata": {},
   "outputs": [
    {
     "data": {
      "text/plain": [
       "0    1\n",
       "1    2\n",
       "dtype: int64"
      ]
     },
     "execution_count": 46,
     "metadata": {},
     "output_type": "execute_result"
    }
   ],
   "source": [
    "D[0:2] # here you define the keys as default indexes , notebook confuses and choses the default key"
   ]
  },
  {
   "cell_type": "markdown",
   "id": "f70e3e68-6512-40ed-8ef2-29ebd729ceb0",
   "metadata": {},
   "source": [
    "Make a Dictionary and pass it to the series it will make a list of values and indexes "
   ]
  },
  {
   "cell_type": "code",
   "execution_count": 47,
   "id": "6d17a61d-8117-4806-97b3-c04e83f7adca",
   "metadata": {},
   "outputs": [],
   "source": [
    "D_Grades={1:2,2:3,4:5,6:7}"
   ]
  },
  {
   "cell_type": "code",
   "execution_count": 48,
   "id": "473027dc-366e-4608-b61f-5495201009d7",
   "metadata": {},
   "outputs": [],
   "source": [
    "D=pd.Series(D_Grades)"
   ]
  },
  {
   "cell_type": "code",
   "execution_count": 52,
   "id": "3c62f040-ce8f-48d8-bf84-18879613d4b5",
   "metadata": {},
   "outputs": [
    {
     "data": {
      "text/plain": [
       "array([2, 3, 5, 7], dtype=int64)"
      ]
     },
     "execution_count": 52,
     "metadata": {},
     "output_type": "execute_result"
    }
   ],
   "source": [
    "D.values"
   ]
  },
  {
   "cell_type": "code",
   "execution_count": 53,
   "id": "0b641566-e871-4d9d-86b4-4ce3996cb061",
   "metadata": {},
   "outputs": [
    {
     "data": {
      "text/plain": [
       "Index([1, 2, 4, 6], dtype='int64')"
      ]
     },
     "execution_count": 53,
     "metadata": {},
     "output_type": "execute_result"
    }
   ],
   "source": [
    "D.index"
   ]
  },
  {
   "cell_type": "code",
   "execution_count": 56,
   "id": "cc068bcf-0995-45c9-bf90-dda8b0d5426a",
   "metadata": {},
   "outputs": [],
   "source": [
    "#Data Frames "
   ]
  },
  {
   "cell_type": "code",
   "execution_count": 3,
   "id": "2974d017-e359-4881-87cc-faf95371f451",
   "metadata": {},
   "outputs": [],
   "source": [
    "grades={'A':85,'B':80,'C':75,'C+':70,'D':65,'D+':60,'E':55,'E+':50}\n",
    "\n",
    "marks={'A':4,'B':3.7,'C':3.3,'C+':3,'D':2.7,'D+':2,'E':1.5,'E+':1}"
   ]
  },
  {
   "cell_type": "code",
   "execution_count": 4,
   "id": "6c697a87-778f-45e8-88b2-3b5f88060219",
   "metadata": {},
   "outputs": [],
   "source": [
    "d=pd.DataFrame({'gradi':marks,'marki':grades})"
   ]
  },
  {
   "cell_type": "code",
   "execution_count": 5,
   "id": "d2802ebd-ec09-4d39-aa04-2f9f2e927c45",
   "metadata": {},
   "outputs": [
    {
     "data": {
      "text/html": [
       "<div>\n",
       "<style scoped>\n",
       "    .dataframe tbody tr th:only-of-type {\n",
       "        vertical-align: middle;\n",
       "    }\n",
       "\n",
       "    .dataframe tbody tr th {\n",
       "        vertical-align: top;\n",
       "    }\n",
       "\n",
       "    .dataframe thead th {\n",
       "        text-align: right;\n",
       "    }\n",
       "</style>\n",
       "<table border=\"1\" class=\"dataframe\">\n",
       "  <thead>\n",
       "    <tr style=\"text-align: right;\">\n",
       "      <th></th>\n",
       "      <th>gradi</th>\n",
       "      <th>marki</th>\n",
       "    </tr>\n",
       "  </thead>\n",
       "  <tbody>\n",
       "    <tr>\n",
       "      <th>A</th>\n",
       "      <td>4.0</td>\n",
       "      <td>85</td>\n",
       "    </tr>\n",
       "    <tr>\n",
       "      <th>B</th>\n",
       "      <td>3.7</td>\n",
       "      <td>80</td>\n",
       "    </tr>\n",
       "    <tr>\n",
       "      <th>C</th>\n",
       "      <td>3.3</td>\n",
       "      <td>75</td>\n",
       "    </tr>\n",
       "    <tr>\n",
       "      <th>C+</th>\n",
       "      <td>3.0</td>\n",
       "      <td>70</td>\n",
       "    </tr>\n",
       "    <tr>\n",
       "      <th>D</th>\n",
       "      <td>2.7</td>\n",
       "      <td>65</td>\n",
       "    </tr>\n",
       "    <tr>\n",
       "      <th>D+</th>\n",
       "      <td>2.0</td>\n",
       "      <td>60</td>\n",
       "    </tr>\n",
       "    <tr>\n",
       "      <th>E</th>\n",
       "      <td>1.5</td>\n",
       "      <td>55</td>\n",
       "    </tr>\n",
       "    <tr>\n",
       "      <th>E+</th>\n",
       "      <td>1.0</td>\n",
       "      <td>50</td>\n",
       "    </tr>\n",
       "  </tbody>\n",
       "</table>\n",
       "</div>"
      ],
      "text/plain": [
       "    gradi  marki\n",
       "A     4.0     85\n",
       "B     3.7     80\n",
       "C     3.3     75\n",
       "C+    3.0     70\n",
       "D     2.7     65\n",
       "D+    2.0     60\n",
       "E     1.5     55\n",
       "E+    1.0     50"
      ]
     },
     "execution_count": 5,
     "metadata": {},
     "output_type": "execute_result"
    }
   ],
   "source": [
    "d"
   ]
  },
  {
   "cell_type": "code",
   "execution_count": 15,
   "id": "5cd5845c-bd70-4b95-8f98-6dd3d0acd0b0",
   "metadata": {},
   "outputs": [
    {
     "data": {
      "text/plain": [
       "array([[ 4. , 85. ],\n",
       "       [ 3.7, 80. ],\n",
       "       [ 3.3, 75. ],\n",
       "       [ 3. , 70. ],\n",
       "       [ 2.7, 65. ],\n",
       "       [ 2. , 60. ],\n",
       "       [ 1.5, 55. ],\n",
       "       [ 1. , 50. ]])"
      ]
     },
     "execution_count": 15,
     "metadata": {},
     "output_type": "execute_result"
    }
   ],
   "source": [
    " d.values\n"
   ]
  },
  {
   "cell_type": "code",
   "execution_count": 6,
   "id": "d09c1f92-39ef-4965-a54c-5ccc86e48bac",
   "metadata": {},
   "outputs": [
    {
     "data": {
      "text/plain": [
       "Index(['A', 'B', 'C', 'C+', 'D', 'D+', 'E', 'E+'], dtype='object')"
      ]
     },
     "execution_count": 6,
     "metadata": {},
     "output_type": "execute_result"
    }
   ],
   "source": [
    "d.index\n"
   ]
  },
  {
   "cell_type": "code",
   "execution_count": 16,
   "id": "12915d89-4b27-4be5-b7ef-6189b7c5cd71",
   "metadata": {},
   "outputs": [
    {
     "data": {
      "text/html": [
       "<div>\n",
       "<style scoped>\n",
       "    .dataframe tbody tr th:only-of-type {\n",
       "        vertical-align: middle;\n",
       "    }\n",
       "\n",
       "    .dataframe tbody tr th {\n",
       "        vertical-align: top;\n",
       "    }\n",
       "\n",
       "    .dataframe thead th {\n",
       "        text-align: right;\n",
       "    }\n",
       "</style>\n",
       "<table border=\"1\" class=\"dataframe\">\n",
       "  <thead>\n",
       "    <tr style=\"text-align: right;\">\n",
       "      <th></th>\n",
       "      <th>A</th>\n",
       "      <th>B</th>\n",
       "      <th>C</th>\n",
       "      <th>C+</th>\n",
       "      <th>D</th>\n",
       "      <th>D+</th>\n",
       "      <th>E</th>\n",
       "      <th>E+</th>\n",
       "    </tr>\n",
       "  </thead>\n",
       "  <tbody>\n",
       "    <tr>\n",
       "      <th>gradi</th>\n",
       "      <td>4.0</td>\n",
       "      <td>3.7</td>\n",
       "      <td>3.3</td>\n",
       "      <td>3.0</td>\n",
       "      <td>2.7</td>\n",
       "      <td>2.0</td>\n",
       "      <td>1.5</td>\n",
       "      <td>1.0</td>\n",
       "    </tr>\n",
       "    <tr>\n",
       "      <th>marki</th>\n",
       "      <td>85.0</td>\n",
       "      <td>80.0</td>\n",
       "      <td>75.0</td>\n",
       "      <td>70.0</td>\n",
       "      <td>65.0</td>\n",
       "      <td>60.0</td>\n",
       "      <td>55.0</td>\n",
       "      <td>50.0</td>\n",
       "    </tr>\n",
       "  </tbody>\n",
       "</table>\n",
       "</div>"
      ],
      "text/plain": [
       "          A     B     C    C+     D    D+     E    E+\n",
       "gradi   4.0   3.7   3.3   3.0   2.7   2.0   1.5   1.0\n",
       "marki  85.0  80.0  75.0  70.0  65.0  60.0  55.0  50.0"
      ]
     },
     "execution_count": 16,
     "metadata": {},
     "output_type": "execute_result"
    }
   ],
   "source": [
    "d.T # transpose"
   ]
  },
  {
   "cell_type": "code",
   "execution_count": 17,
   "id": "ea7ca4c3-4ad3-472e-a7b3-b4fbff45e02b",
   "metadata": {},
   "outputs": [
    {
     "data": {
      "text/plain": [
       "Index(['gradi', 'marki'], dtype='object')"
      ]
     },
     "execution_count": 17,
     "metadata": {},
     "output_type": "execute_result"
    }
   ],
   "source": [
    "d.columns"
   ]
  },
  {
   "cell_type": "code",
   "execution_count": 23,
   "id": "e658dd7d-6bed-45c8-9f6f-28c35ff0a05f",
   "metadata": {},
   "outputs": [],
   "source": [
    "#if you want scaled version of marks \n",
    "# if  you want to calculate out of 120\n",
    "d['scaled version ']=d['marki']/100*120"
   ]
  },
  {
   "cell_type": "code",
   "execution_count": 22,
   "id": "377013c1-564f-4d85-95d5-3450b46c33be",
   "metadata": {},
   "outputs": [
    {
     "data": {
      "text/html": [
       "<div>\n",
       "<style scoped>\n",
       "    .dataframe tbody tr th:only-of-type {\n",
       "        vertical-align: middle;\n",
       "    }\n",
       "\n",
       "    .dataframe tbody tr th {\n",
       "        vertical-align: top;\n",
       "    }\n",
       "\n",
       "    .dataframe thead th {\n",
       "        text-align: right;\n",
       "    }\n",
       "</style>\n",
       "<table border=\"1\" class=\"dataframe\">\n",
       "  <thead>\n",
       "    <tr style=\"text-align: right;\">\n",
       "      <th></th>\n",
       "      <th>gradi</th>\n",
       "      <th>marki</th>\n",
       "      <th>scaled version</th>\n",
       "    </tr>\n",
       "  </thead>\n",
       "  <tbody>\n",
       "    <tr>\n",
       "      <th>A</th>\n",
       "      <td>4.0</td>\n",
       "      <td>85</td>\n",
       "      <td>102.0</td>\n",
       "    </tr>\n",
       "    <tr>\n",
       "      <th>B</th>\n",
       "      <td>3.7</td>\n",
       "      <td>80</td>\n",
       "      <td>96.0</td>\n",
       "    </tr>\n",
       "    <tr>\n",
       "      <th>C</th>\n",
       "      <td>3.3</td>\n",
       "      <td>75</td>\n",
       "      <td>90.0</td>\n",
       "    </tr>\n",
       "    <tr>\n",
       "      <th>C+</th>\n",
       "      <td>3.0</td>\n",
       "      <td>70</td>\n",
       "      <td>84.0</td>\n",
       "    </tr>\n",
       "    <tr>\n",
       "      <th>D</th>\n",
       "      <td>2.7</td>\n",
       "      <td>65</td>\n",
       "      <td>78.0</td>\n",
       "    </tr>\n",
       "    <tr>\n",
       "      <th>D+</th>\n",
       "      <td>2.0</td>\n",
       "      <td>60</td>\n",
       "      <td>72.0</td>\n",
       "    </tr>\n",
       "    <tr>\n",
       "      <th>E</th>\n",
       "      <td>1.5</td>\n",
       "      <td>55</td>\n",
       "      <td>66.0</td>\n",
       "    </tr>\n",
       "    <tr>\n",
       "      <th>E+</th>\n",
       "      <td>1.0</td>\n",
       "      <td>50</td>\n",
       "      <td>60.0</td>\n",
       "    </tr>\n",
       "  </tbody>\n",
       "</table>\n",
       "</div>"
      ],
      "text/plain": [
       "    gradi  marki  scaled version \n",
       "A     4.0     85            102.0\n",
       "B     3.7     80             96.0\n",
       "C     3.3     75             90.0\n",
       "C+    3.0     70             84.0\n",
       "D     2.7     65             78.0\n",
       "D+    2.0     60             72.0\n",
       "E     1.5     55             66.0\n",
       "E+    1.0     50             60.0"
      ]
     },
     "execution_count": 22,
     "metadata": {},
     "output_type": "execute_result"
    }
   ],
   "source": [
    "d"
   ]
  },
  {
   "cell_type": "code",
   "execution_count": 9,
   "id": "a487c7a4-52bd-4eb1-9c89-8a337b73a14c",
   "metadata": {},
   "outputs": [],
   "source": [
    "G=d[d['marki']>70]   #masking "
   ]
  },
  {
   "cell_type": "code",
   "execution_count": 8,
   "id": "591bed9b-7117-48e2-b00b-d5f78b4c98e5",
   "metadata": {},
   "outputs": [
    {
     "data": {
      "text/html": [
       "<div>\n",
       "<style scoped>\n",
       "    .dataframe tbody tr th:only-of-type {\n",
       "        vertical-align: middle;\n",
       "    }\n",
       "\n",
       "    .dataframe tbody tr th {\n",
       "        vertical-align: top;\n",
       "    }\n",
       "\n",
       "    .dataframe thead th {\n",
       "        text-align: right;\n",
       "    }\n",
       "</style>\n",
       "<table border=\"1\" class=\"dataframe\">\n",
       "  <thead>\n",
       "    <tr style=\"text-align: right;\">\n",
       "      <th></th>\n",
       "      <th>gradi</th>\n",
       "      <th>marki</th>\n",
       "    </tr>\n",
       "  </thead>\n",
       "  <tbody>\n",
       "    <tr>\n",
       "      <th>A</th>\n",
       "      <td>4.0</td>\n",
       "      <td>85</td>\n",
       "    </tr>\n",
       "    <tr>\n",
       "      <th>B</th>\n",
       "      <td>3.7</td>\n",
       "      <td>80</td>\n",
       "    </tr>\n",
       "    <tr>\n",
       "      <th>C</th>\n",
       "      <td>3.3</td>\n",
       "      <td>75</td>\n",
       "    </tr>\n",
       "  </tbody>\n",
       "</table>\n",
       "</div>"
      ],
      "text/plain": [
       "   gradi  marki\n",
       "A    4.0     85\n",
       "B    3.7     80\n",
       "C    3.3     75"
      ]
     },
     "execution_count": 8,
     "metadata": {},
     "output_type": "execute_result"
    }
   ],
   "source": [
    "G"
   ]
  },
  {
   "cell_type": "code",
   "execution_count": 5,
   "id": "fee716fb-6135-4464-b124-60731d633730",
   "metadata": {},
   "outputs": [],
   "source": [
    "A=pd.DataFrame([{'a':'A','b':'B' },{'b':'B','c':'C','a':'a'}])"
   ]
  },
  {
   "cell_type": "code",
   "execution_count": 6,
   "id": "d1291c6c-fa65-4810-a156-eaeb1a3f983d",
   "metadata": {},
   "outputs": [
    {
     "data": {
      "text/html": [
       "<div>\n",
       "<style scoped>\n",
       "    .dataframe tbody tr th:only-of-type {\n",
       "        vertical-align: middle;\n",
       "    }\n",
       "\n",
       "    .dataframe tbody tr th {\n",
       "        vertical-align: top;\n",
       "    }\n",
       "\n",
       "    .dataframe thead th {\n",
       "        text-align: right;\n",
       "    }\n",
       "</style>\n",
       "<table border=\"1\" class=\"dataframe\">\n",
       "  <thead>\n",
       "    <tr style=\"text-align: right;\">\n",
       "      <th></th>\n",
       "      <th>a</th>\n",
       "      <th>b</th>\n",
       "      <th>c</th>\n",
       "    </tr>\n",
       "  </thead>\n",
       "  <tbody>\n",
       "    <tr>\n",
       "      <th>0</th>\n",
       "      <td>A</td>\n",
       "      <td>B</td>\n",
       "      <td>NaN</td>\n",
       "    </tr>\n",
       "    <tr>\n",
       "      <th>1</th>\n",
       "      <td>a</td>\n",
       "      <td>B</td>\n",
       "      <td>C</td>\n",
       "    </tr>\n",
       "  </tbody>\n",
       "</table>\n",
       "</div>"
      ],
      "text/plain": [
       "   a  b    c\n",
       "0  A  B  NaN\n",
       "1  a  B    C"
      ]
     },
     "execution_count": 6,
     "metadata": {},
     "output_type": "execute_result"
    }
   ],
   "source": [
    "A"
   ]
  },
  {
   "cell_type": "code",
   "execution_count": 7,
   "id": "6db3c1ef-e876-495f-a2fc-1c0130f75734",
   "metadata": {},
   "outputs": [
    {
     "data": {
      "text/html": [
       "<div>\n",
       "<style scoped>\n",
       "    .dataframe tbody tr th:only-of-type {\n",
       "        vertical-align: middle;\n",
       "    }\n",
       "\n",
       "    .dataframe tbody tr th {\n",
       "        vertical-align: top;\n",
       "    }\n",
       "\n",
       "    .dataframe thead th {\n",
       "        text-align: right;\n",
       "    }\n",
       "</style>\n",
       "<table border=\"1\" class=\"dataframe\">\n",
       "  <thead>\n",
       "    <tr style=\"text-align: right;\">\n",
       "      <th></th>\n",
       "      <th>a</th>\n",
       "      <th>b</th>\n",
       "      <th>c</th>\n",
       "    </tr>\n",
       "  </thead>\n",
       "  <tbody>\n",
       "    <tr>\n",
       "      <th>0</th>\n",
       "      <td>A</td>\n",
       "      <td>B</td>\n",
       "      <td>1</td>\n",
       "    </tr>\n",
       "    <tr>\n",
       "      <th>1</th>\n",
       "      <td>a</td>\n",
       "      <td>B</td>\n",
       "      <td>C</td>\n",
       "    </tr>\n",
       "  </tbody>\n",
       "</table>\n",
       "</div>"
      ],
      "text/plain": [
       "   a  b  c\n",
       "0  A  B  1\n",
       "1  a  B  C"
      ]
     },
     "execution_count": 7,
     "metadata": {},
     "output_type": "execute_result"
    }
   ],
   "source": [
    "A.fillna(1)"
   ]
  },
  {
   "cell_type": "code",
   "execution_count": 2,
   "id": "7d603f0c-1a2b-47e1-9fa7-41eea4a2e0cd",
   "metadata": {},
   "outputs": [
    {
     "name": "stdout",
     "output_type": "stream",
     "text": [
      "       a      b      c\n",
      "0  False  False   True\n",
      "1  False  False  False\n",
      "   a  b    c\n",
      "0  A  B  NaN\n",
      "1  a  B    C\n"
     ]
    }
   ],
   "source": [
    "A=pd.DataFrame([{'a':'A','b':'B' },{'b':'B','c':'C','a':'a'}])\n",
    "print(A.isna()) # returns true where nan present \n",
    "print (A)"
   ]
  },
  {
   "cell_type": "code",
   "execution_count": 13,
   "id": "77c0c036-226d-43f9-8d75-df8c244ca06b",
   "metadata": {},
   "outputs": [
    {
     "data": {
      "text/html": [
       "<div>\n",
       "<style scoped>\n",
       "    .dataframe tbody tr th:only-of-type {\n",
       "        vertical-align: middle;\n",
       "    }\n",
       "\n",
       "    .dataframe tbody tr th {\n",
       "        vertical-align: top;\n",
       "    }\n",
       "\n",
       "    .dataframe thead th {\n",
       "        text-align: right;\n",
       "    }\n",
       "</style>\n",
       "<table border=\"1\" class=\"dataframe\">\n",
       "  <thead>\n",
       "    <tr style=\"text-align: right;\">\n",
       "      <th></th>\n",
       "      <th>a</th>\n",
       "      <th>b</th>\n",
       "      <th>c</th>\n",
       "    </tr>\n",
       "  </thead>\n",
       "  <tbody>\n",
       "    <tr>\n",
       "      <th>1</th>\n",
       "      <td>a</td>\n",
       "      <td>B</td>\n",
       "      <td>C</td>\n",
       "    </tr>\n",
       "  </tbody>\n",
       "</table>\n",
       "</div>"
      ],
      "text/plain": [
       "   a  b  c\n",
       "1  a  B  C"
      ]
     },
     "execution_count": 13,
     "metadata": {},
     "output_type": "execute_result"
    }
   ],
   "source": [
    "A.dropna() # drop the row where nan is present "
   ]
  },
  {
   "cell_type": "code",
   "execution_count": 17,
   "id": "80fb972b-4b02-468a-8beb-905d92c85bd1",
   "metadata": {},
   "outputs": [
    {
     "data": {
      "text/plain": [
       "0    yes\n",
       "1      C\n",
       "Name: c, dtype: object"
      ]
     },
     "execution_count": 17,
     "metadata": {},
     "output_type": "execute_result"
    }
   ],
   "source": [
    "A=pd.DataFrame([{'a':'A','b':'B' },{'b':'B','c':'C','a':'a'}])\n",
    "A['c'].fillna('yes') # fills the  value of key'c' with 'yes'"
   ]
  },
  {
   "cell_type": "code",
   "execution_count": 3,
   "id": "211f8870-04b0-4441-b64d-d0495b08eb70",
   "metadata": {},
   "outputs": [
    {
     "data": {
      "text/html": [
       "<div>\n",
       "<style scoped>\n",
       "    .dataframe tbody tr th:only-of-type {\n",
       "        vertical-align: middle;\n",
       "    }\n",
       "\n",
       "    .dataframe tbody tr th {\n",
       "        vertical-align: top;\n",
       "    }\n",
       "\n",
       "    .dataframe thead th {\n",
       "        text-align: right;\n",
       "    }\n",
       "</style>\n",
       "<table border=\"1\" class=\"dataframe\">\n",
       "  <thead>\n",
       "    <tr style=\"text-align: right;\">\n",
       "      <th></th>\n",
       "      <th>a</th>\n",
       "      <th>b</th>\n",
       "      <th>c</th>\n",
       "    </tr>\n",
       "  </thead>\n",
       "  <tbody>\n",
       "    <tr>\n",
       "      <th>0</th>\n",
       "      <td>A</td>\n",
       "      <td>B</td>\n",
       "      <td>NaN</td>\n",
       "    </tr>\n",
       "    <tr>\n",
       "      <th>1</th>\n",
       "      <td>a</td>\n",
       "      <td>B</td>\n",
       "      <td>C</td>\n",
       "    </tr>\n",
       "  </tbody>\n",
       "</table>\n",
       "</div>"
      ],
      "text/plain": [
       "   a  b    c\n",
       "0  A  B  NaN\n",
       "1  a  B    C"
      ]
     },
     "execution_count": 3,
     "metadata": {},
     "output_type": "execute_result"
    }
   ],
   "source": [
    "#while slicing you encounter a problem in which your defined index clashes with default \n",
    "A"
   ]
  },
  {
   "cell_type": "code",
   "execution_count": 20,
   "id": "6d7e86d6-3c9c-4735-8577-059abeb5c213",
   "metadata": {},
   "outputs": [],
   "source": [
    "#in this Case you have to force compiler what you want it to do"
   ]
  },
  {
   "cell_type": "code",
   "execution_count": 22,
   "id": "e86f41b8-f3d7-48fc-aa13-bb2b2ab6e635",
   "metadata": {},
   "outputs": [
    {
     "data": {
      "text/plain": [
       "3    b\n",
       "5    c\n",
       "dtype: object"
      ]
     },
     "execution_count": 22,
     "metadata": {},
     "output_type": "execute_result"
    }
   ],
   "source": [
    "a=pd.Series(['a','b','c','d'],index=[1,3,5,7])\n",
    "a[1:3] #here it follows default index"
   ]
  },
  {
   "cell_type": "code",
   "execution_count": 24,
   "id": "e048b276-5381-4d1d-9e99-4f4cd0e02a3b",
   "metadata": {},
   "outputs": [
    {
     "data": {
      "text/plain": [
       "1    a\n",
       "3    b\n",
       "dtype: object"
      ]
     },
     "execution_count": 24,
     "metadata": {},
     "output_type": "execute_result"
    }
   ],
   "source": [
    "#to follow yours:\n",
    "\n",
    "a.loc[1:3]"
   ]
  },
  {
   "cell_type": "code",
   "execution_count": 25,
   "id": "156b2d9a-195c-4ab1-b69b-7b9263643e9e",
   "metadata": {},
   "outputs": [
    {
     "data": {
      "text/plain": [
       "3    b\n",
       "5    c\n",
       "dtype: object"
      ]
     },
     "execution_count": 25,
     "metadata": {},
     "output_type": "execute_result"
    }
   ],
   "source": [
    "#to follow default:\n",
    "\n",
    "a.iloc[1:3]"
   ]
  },
  {
   "cell_type": "code",
   "execution_count": 26,
   "id": "868fd6c1-41a7-4887-b761-fc5bdfc220d5",
   "metadata": {},
   "outputs": [],
   "source": [
    "# from now we will able to read csv file we will do it in next file"
   ]
  },
  {
   "cell_type": "code",
   "execution_count": null,
   "id": "cc9553b4-711d-420e-b84d-d4993775d6a7",
   "metadata": {},
   "outputs": [],
   "source": []
  }
 ],
 "metadata": {
  "kernelspec": {
   "display_name": "Python [conda env:base] *",
   "language": "python",
   "name": "conda-base-py"
  },
  "language_info": {
   "codemirror_mode": {
    "name": "ipython",
    "version": 3
   },
   "file_extension": ".py",
   "mimetype": "text/x-python",
   "name": "python",
   "nbconvert_exporter": "python",
   "pygments_lexer": "ipython3",
   "version": "3.12.7"
  }
 },
 "nbformat": 4,
 "nbformat_minor": 5
}
